{
 "cells": [
  {
   "cell_type": "code",
   "execution_count": 15,
   "metadata": {},
   "outputs": [
    {
     "name": "stdout",
     "output_type": "stream",
     "text": [
      "enter a number:20\n",
      "1\n",
      "2\n",
      "3\n",
      "4\n",
      "5\n",
      "6\n",
      "7\n",
      "8\n",
      "9\n",
      "10\n",
      "11\n",
      "12\n",
      "13\n",
      "14\n",
      "15\n",
      "16\n",
      "17\n",
      "18\n",
      "19\n",
      "20\n"
     ]
    }
   ],
   "source": [
    "n=int(input(\"enter a number:\"))\n",
    "i=1\n",
    "while i<=n:\n",
    "   print(i)\n",
    "   i=i+1\n",
    "    "
   ]
  },
  {
   "cell_type": "code",
   "execution_count": 2,
   "metadata": {},
   "outputs": [
    {
     "name": "stdout",
     "output_type": "stream",
     "text": [
      "3\n",
      "5\n",
      "6\n"
     ]
    }
   ],
   "source": [
    "n=123\n",
    "sum=0\n",
    "while n!=0:\n",
    "    r=n%10\n",
    "    sum=sum+r\n",
    "    n=n//10\n",
    "    print(sum)"
   ]
  },
  {
   "cell_type": "code",
   "execution_count": 10,
   "metadata": {},
   "outputs": [
    {
     "name": "stdout",
     "output_type": "stream",
     "text": [
      "p\n",
      "h\n",
      "y\n",
      "t\n",
      "o\n",
      "n\n"
     ]
    }
   ],
   "source": [
    "\n",
    "for i in \"phyton\":\n",
    "    print(i)"
   ]
  },
  {
   "cell_type": "markdown",
   "metadata": {},
   "source": [
    "# functional programming:\n",
    "-simple\n",
    "-easy to understand\n",
    "- better reusability\n",
    "- leangthy programing will be divided in to sub programs\n",
    "\n",
    "\n",
    "\n",
    "\n"
   ]
  },
  {
   "cell_type": "markdown",
   "metadata": {},
   "source": [
    "## two types of functions\n",
    "## syntax\n",
    "## def function -name(parameters):\n",
    "1. statements\n",
    "2.return\n",
    "\n",
    "\n",
    "\n"
   ]
  },
  {
   "cell_type": "code",
   "execution_count": 4,
   "metadata": {},
   "outputs": [
    {
     "name": "stdout",
     "output_type": "stream",
     "text": [
      "-4\n"
     ]
    }
   ],
   "source": [
    "def substraction(a,b):\n",
    "    c=a-b\n",
    "    print(c)\n",
    "substraction(1,5)"
   ]
  },
  {
   "cell_type": "code",
   "execution_count": 4,
   "metadata": {},
   "outputs": [
    {
     "data": {
      "text/plain": [
       "6"
      ]
     },
     "execution_count": 4,
     "metadata": {},
     "output_type": "execute_result"
    }
   ],
   "source": [
    "def evendigitsum(n):\n",
    "    sum=0\n",
    "    while n!=0:\n",
    "        r=n%10\n",
    "        if r%2==0:\n",
    "            sum=sum+r\n",
    "        n=n//10\n",
    "    return sum\n",
    "evendigitsum(1234)\n"
   ]
  },
  {
   "cell_type": "code",
   "execution_count": 5,
   "metadata": {},
   "outputs": [],
   "source": [
    "# input:19535\n",
    "# output:9(print the largest digit from\n"
   ]
  },
  {
   "cell_type": "code",
   "execution_count": 1,
   "metadata": {},
   "outputs": [
    {
     "data": {
      "text/plain": [
       "9"
      ]
     },
     "execution_count": 1,
     "metadata": {},
     "output_type": "execute_result"
    }
   ],
   "source": [
    "def largedigit(n):\n",
    "    large=0\n",
    "    while n!=0:\n",
    "        r=n%10\n",
    "        if large <r:\n",
    "            large=r\n",
    "            \n",
    "        n=n//10\n",
    "    return large \n",
    "largedigit(1289)"
   ]
  },
  {
   "cell_type": "code",
   "execution_count": 2,
   "metadata": {},
   "outputs": [],
   "source": [
    "# read a number as input \n",
    "# out:palin"
   ]
  },
  {
   "cell_type": "code",
   "execution_count": 3,
   "metadata": {},
   "outputs": [],
   "source": [
    "def palindrome(nb):\n",
    "    rev=0\n",
    "    buffer=n:\n",
    "        while n!=0:\n",
    "            rev =rev*10+(n%10)\n",
    "            n=n//10\n",
    "        if  \n",
    "    "
   ]
  },
  {
   "cell_type": "code",
   "execution_count": null,
   "metadata": {},
   "outputs": [],
   "source": []
  }
 ],
 "metadata": {
  "kernelspec": {
   "display_name": "Python 3",
   "language": "python",
   "name": "python3"
  },
  "language_info": {
   "codemirror_mode": {
    "name": "ipython",
    "version": 3
   },
   "file_extension": ".py",
   "mimetype": "text/x-python",
   "name": "python",
   "nbconvert_exporter": "python",
   "pygments_lexer": "ipython3",
   "version": "3.7.4"
  }
 },
 "nbformat": 4,
 "nbformat_minor": 2
}
